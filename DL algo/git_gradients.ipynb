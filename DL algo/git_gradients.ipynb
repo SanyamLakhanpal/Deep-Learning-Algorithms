{
  "nbformat": 4,
  "nbformat_minor": 0,
  "metadata": {
    "colab": {
      "provenance": []
    },
    "kernelspec": {
      "name": "python3",
      "display_name": "Python 3"
    },
    "language_info": {
      "name": "python"
    }
  },
  "cells": [
    {
      "cell_type": "code",
      "execution_count": null,
      "metadata": {
        "id": "zN3h7HzhG_d5"
      },
      "outputs": [],
      "source": [
        "# testing now 1"
      ]
    },
    {
      "cell_type": "code",
      "source": [
        "import torch\n",
        "from torch.autograd import Variable"
      ],
      "metadata": {
        "id": "0P2myITkHBzq"
      },
      "execution_count": null,
      "outputs": []
    },
    {
      "cell_type": "markdown",
      "source": [
        "# <font color='red'> input is scalar; output is scalar </font> "
      ],
      "metadata": {
        "id": "f2MAiGaFIRkQ"
      }
    },
    {
      "cell_type": "markdown",
      "source": [
        "### <font color='yellow'> Try - 1  "
      ],
      "metadata": {
        "id": "78lp85TnHtw7"
      }
    },
    {
      "cell_type": "code",
      "source": [
        "x = Variable(torch.rand(1), requires_grad=True)\n",
        "x"
      ],
      "metadata": {
        "colab": {
          "base_uri": "https://localhost:8080/"
        },
        "id": "6RuYl1EpHB36",
        "outputId": "2e27256d-bfb6-4c09-da19-f4e702359bfa"
      },
      "execution_count": null,
      "outputs": [
        {
          "output_type": "execute_result",
          "data": {
            "text/plain": [
              "tensor([0.9743], requires_grad=True)"
            ]
          },
          "metadata": {},
          "execution_count": 2
        }
      ]
    },
    {
      "cell_type": "code",
      "source": [
        "y = 3*x**2"
      ],
      "metadata": {
        "id": "nOUACSQ6HB_y"
      },
      "execution_count": null,
      "outputs": []
    },
    {
      "cell_type": "code",
      "source": [
        "y"
      ],
      "metadata": {
        "colab": {
          "base_uri": "https://localhost:8080/"
        },
        "id": "vSPaujUUHCBC",
        "outputId": "beeb30d3-c636-4886-d567-15410919e538"
      },
      "execution_count": null,
      "outputs": [
        {
          "output_type": "execute_result",
          "data": {
            "text/plain": [
              "tensor([2.8478], grad_fn=<MulBackward0>)"
            ]
          },
          "metadata": {},
          "execution_count": 4
        }
      ]
    },
    {
      "cell_type": "code",
      "source": [
        "y.backward()"
      ],
      "metadata": {
        "id": "IV0f1Jt-HCCV"
      },
      "execution_count": null,
      "outputs": []
    },
    {
      "cell_type": "code",
      "source": [
        "x.grad   # 6 * 0.9743"
      ],
      "metadata": {
        "colab": {
          "base_uri": "https://localhost:8080/"
        },
        "id": "dNEYiYzkHCEG",
        "outputId": "c9ced410-f731-4990-d821-fa1b33b41001"
      },
      "execution_count": null,
      "outputs": [
        {
          "output_type": "execute_result",
          "data": {
            "text/plain": [
              "tensor([5.8458])"
            ]
          },
          "metadata": {},
          "execution_count": 6
        }
      ]
    },
    {
      "cell_type": "code",
      "source": [
        "6 * 0.9743  # 6 * x"
      ],
      "metadata": {
        "colab": {
          "base_uri": "https://localhost:8080/"
        },
        "id": "y6ybqnoyHCF6",
        "outputId": "4a8f8a5d-bc62-4cad-e911-0cff324f23b5"
      },
      "execution_count": null,
      "outputs": [
        {
          "output_type": "execute_result",
          "data": {
            "text/plain": [
              "5.8458000000000006"
            ]
          },
          "metadata": {},
          "execution_count": 7
        }
      ]
    },
    {
      "cell_type": "markdown",
      "source": [
        "### <font color='yellow'> Try - 2 </font>"
      ],
      "metadata": {
        "id": "4wPr50FKHCHi"
      }
    },
    {
      "cell_type": "code",
      "source": [
        "x = Variable(torch.rand(1), requires_grad=True); x"
      ],
      "metadata": {
        "colab": {
          "base_uri": "https://localhost:8080/"
        },
        "id": "vdyhP_vkHCIR",
        "outputId": "ad13555e-b354-46eb-f669-a0ffd45079ee"
      },
      "execution_count": null,
      "outputs": [
        {
          "output_type": "execute_result",
          "data": {
            "text/plain": [
              "tensor([0.7325], requires_grad=True)"
            ]
          },
          "metadata": {},
          "execution_count": 8
        }
      ]
    },
    {
      "cell_type": "code",
      "source": [
        "y = 3*x**2 ; y"
      ],
      "metadata": {
        "colab": {
          "base_uri": "https://localhost:8080/"
        },
        "id": "MvSFeChRHCJM",
        "outputId": "bc41056d-50d2-462f-fbb7-772b6d195fad"
      },
      "execution_count": null,
      "outputs": [
        {
          "output_type": "execute_result",
          "data": {
            "text/plain": [
              "tensor([1.6099], grad_fn=<MulBackward0>)"
            ]
          },
          "metadata": {},
          "execution_count": 9
        }
      ]
    },
    {
      "cell_type": "code",
      "source": [
        "torch.ones(1)"
      ],
      "metadata": {
        "colab": {
          "base_uri": "https://localhost:8080/"
        },
        "id": "3KYSkfrlH6Sg",
        "outputId": "b4d24504-204b-44a4-f226-15d1a720a446"
      },
      "execution_count": null,
      "outputs": [
        {
          "output_type": "execute_result",
          "data": {
            "text/plain": [
              "tensor([1.])"
            ]
          },
          "metadata": {},
          "execution_count": 11
        }
      ]
    },
    {
      "cell_type": "code",
      "source": [
        "y.backward(gradient=torch.ones(1))\n",
        "x.grad"
      ],
      "metadata": {
        "colab": {
          "base_uri": "https://localhost:8080/"
        },
        "id": "Yeyg0pnDHCKP",
        "outputId": "16136b43-d3b8-42e8-ca34-7209fe418a4e"
      },
      "execution_count": null,
      "outputs": [
        {
          "output_type": "execute_result",
          "data": {
            "text/plain": [
              "tensor([4.3953])"
            ]
          },
          "metadata": {},
          "execution_count": 10
        }
      ]
    },
    {
      "cell_type": "code",
      "source": [
        "0.7325 * 6"
      ],
      "metadata": {
        "colab": {
          "base_uri": "https://localhost:8080/"
        },
        "id": "-sly6Y5MHCLp",
        "outputId": "b3eba8b1-1606-49cc-c208-fb200ebfa4a5"
      },
      "execution_count": null,
      "outputs": [
        {
          "output_type": "execute_result",
          "data": {
            "text/plain": [
              "4.3950000000000005"
            ]
          },
          "metadata": {},
          "execution_count": 12
        }
      ]
    },
    {
      "cell_type": "markdown",
      "source": [
        "### <font color='yellow'> Try - 3 </font>"
      ],
      "metadata": {
        "id": "iz9y4AN1HCM4"
      }
    },
    {
      "cell_type": "code",
      "source": [
        "x = Variable(torch.rand(1), requires_grad=True); x"
      ],
      "metadata": {
        "colab": {
          "base_uri": "https://localhost:8080/"
        },
        "id": "V6TpCd8yHCON",
        "outputId": "b157bf7c-0e04-487b-a480-8c18561dee44"
      },
      "execution_count": null,
      "outputs": [
        {
          "output_type": "execute_result",
          "data": {
            "text/plain": [
              "tensor([0.3478], requires_grad=True)"
            ]
          },
          "metadata": {},
          "execution_count": 13
        }
      ]
    },
    {
      "cell_type": "code",
      "source": [
        "y = 3*x**2\n",
        "y.backward(gradient=100*torch.ones(1))\n",
        "x.grad"
      ],
      "metadata": {
        "colab": {
          "base_uri": "https://localhost:8080/"
        },
        "id": "9fksu-pDHCP-",
        "outputId": "3a458778-1a8c-41d0-db1c-164e7ebe8a6c"
      },
      "execution_count": null,
      "outputs": [
        {
          "output_type": "execute_result",
          "data": {
            "text/plain": [
              "tensor([208.6534])"
            ]
          },
          "metadata": {},
          "execution_count": 14
        }
      ]
    },
    {
      "cell_type": "code",
      "source": [
        "6 * 0.3478 * 100"
      ],
      "metadata": {
        "colab": {
          "base_uri": "https://localhost:8080/"
        },
        "id": "sT2BOKcHHCRf",
        "outputId": "2d2a5db0-4b8b-43a9-d918-3af0d05aa44e"
      },
      "execution_count": null,
      "outputs": [
        {
          "output_type": "execute_result",
          "data": {
            "text/plain": [
              "208.68"
            ]
          },
          "metadata": {},
          "execution_count": 15
        }
      ]
    },
    {
      "cell_type": "markdown",
      "source": [
        "# <font color='Red'> input is vector; output is scalar"
      ],
      "metadata": {
        "id": "xHgwXnt6IGxY"
      }
    },
    {
      "cell_type": "markdown",
      "source": [
        "### <font color='yellow'> Try - 1"
      ],
      "metadata": {
        "id": "kOK7XZ_oMG_Z"
      }
    },
    {
      "cell_type": "code",
      "source": [
        "x = Variable(torch.rand(2, 1), requires_grad = True); x"
      ],
      "metadata": {
        "colab": {
          "base_uri": "https://localhost:8080/"
        },
        "id": "ZvbPIqrXIG4Q",
        "outputId": "4ddba906-98f3-4987-c7da-fb8077b3be95"
      },
      "execution_count": null,
      "outputs": [
        {
          "output_type": "execute_result",
          "data": {
            "text/plain": [
              "tensor([[0.9769],\n",
              "        [0.6559]], requires_grad=True)"
            ]
          },
          "metadata": {},
          "execution_count": 16
        }
      ]
    },
    {
      "cell_type": "code",
      "source": [
        "y = x[0]**3 + 2*x[1]**2\n",
        "\n",
        "y.backward()\n"
      ],
      "metadata": {
        "id": "FUDMaGv4IG6T"
      },
      "execution_count": null,
      "outputs": []
    },
    {
      "cell_type": "code",
      "source": [
        "x.grad"
      ],
      "metadata": {
        "colab": {
          "base_uri": "https://localhost:8080/"
        },
        "id": "Z4H_cCqwIG9H",
        "outputId": "267af495-0c14-46dd-c36a-d7b03f83a1b3"
      },
      "execution_count": null,
      "outputs": [
        {
          "output_type": "execute_result",
          "data": {
            "text/plain": [
              "tensor([[2.8629],\n",
              "        [2.6237]])"
            ]
          },
          "metadata": {},
          "execution_count": 18
        }
      ]
    },
    {
      "cell_type": "code",
      "source": [
        "# Grad: \n",
        "3*x[0]**2, 4*x[1]"
      ],
      "metadata": {
        "colab": {
          "base_uri": "https://localhost:8080/"
        },
        "id": "OovFz81HIG_G",
        "outputId": "bce98421-3e7e-41d2-9f79-1fbdaa634ef1"
      },
      "execution_count": null,
      "outputs": [
        {
          "output_type": "execute_result",
          "data": {
            "text/plain": [
              "(tensor([2.8629], grad_fn=<MulBackward0>),\n",
              " tensor([2.6237], grad_fn=<MulBackward0>))"
            ]
          },
          "metadata": {},
          "execution_count": 19
        }
      ]
    },
    {
      "cell_type": "markdown",
      "source": [
        "### <font color='yellow'> Try - 2"
      ],
      "metadata": {
        "id": "3OrMAQ07MA-2"
      }
    },
    {
      "cell_type": "code",
      "source": [
        "x = Variable(torch.rand(2, 1), requires_grad = True); x"
      ],
      "metadata": {
        "colab": {
          "base_uri": "https://localhost:8080/"
        },
        "id": "2cBsTh-8IHBB",
        "outputId": "9163401f-a4b5-4556-b7c7-366ee43e9752"
      },
      "execution_count": null,
      "outputs": [
        {
          "output_type": "execute_result",
          "data": {
            "text/plain": [
              "tensor([[0.3901],\n",
              "        [0.8963]], requires_grad=True)"
            ]
          },
          "metadata": {},
          "execution_count": 24
        }
      ]
    },
    {
      "cell_type": "code",
      "source": [
        "torch.ones(1)"
      ],
      "metadata": {
        "colab": {
          "base_uri": "https://localhost:8080/"
        },
        "id": "b8HzP9z3JPQq",
        "outputId": "545a770f-1c90-4a10-d619-04c8099d0f6c"
      },
      "execution_count": null,
      "outputs": [
        {
          "output_type": "execute_result",
          "data": {
            "text/plain": [
              "tensor([1.])"
            ]
          },
          "metadata": {},
          "execution_count": 25
        }
      ]
    },
    {
      "cell_type": "code",
      "source": [
        "y = x[0]**3 + 2*x[1]**2\n",
        "\n",
        "y.backward(gradient=torch.ones(1)) # Equiavalent of y.backward()"
      ],
      "metadata": {
        "id": "u3bbxZz4IHCF"
      },
      "execution_count": null,
      "outputs": []
    },
    {
      "cell_type": "code",
      "source": [
        "x.grad"
      ],
      "metadata": {
        "colab": {
          "base_uri": "https://localhost:8080/"
        },
        "id": "ILeAD0pmIHEA",
        "outputId": "8e4e7612-38e5-4350-92cf-6239947349ae"
      },
      "execution_count": null,
      "outputs": [
        {
          "output_type": "execute_result",
          "data": {
            "text/plain": [
              "tensor([[0.4564],\n",
              "        [3.5853]])"
            ]
          },
          "metadata": {},
          "execution_count": 27
        }
      ]
    },
    {
      "cell_type": "code",
      "source": [
        "3*x[0]**2, 4*x[1]"
      ],
      "metadata": {
        "colab": {
          "base_uri": "https://localhost:8080/"
        },
        "id": "0EAywkQRJLc8",
        "outputId": "366dd9fa-ff80-4492-b345-6cf2f5b6fd49"
      },
      "execution_count": null,
      "outputs": [
        {
          "output_type": "execute_result",
          "data": {
            "text/plain": [
              "(tensor([0.4564], grad_fn=<MulBackward0>),\n",
              " tensor([3.5853], grad_fn=<MulBackward0>))"
            ]
          },
          "metadata": {},
          "execution_count": 28
        }
      ]
    },
    {
      "cell_type": "markdown",
      "source": [
        "### <font color='yellow'> Try - 3"
      ],
      "metadata": {
        "id": "0CtntX1ZJLjH"
      }
    },
    {
      "cell_type": "code",
      "source": [
        "x = Variable(torch.rand(2, 1), requires_grad = True); x"
      ],
      "metadata": {
        "colab": {
          "base_uri": "https://localhost:8080/"
        },
        "id": "dyoWlDXWJLlW",
        "outputId": "7f469812-1874-4ad3-882d-64f3e162b45e"
      },
      "execution_count": null,
      "outputs": [
        {
          "output_type": "execute_result",
          "data": {
            "text/plain": [
              "tensor([[0.5843],\n",
              "        [0.0087]], requires_grad=True)"
            ]
          },
          "metadata": {},
          "execution_count": 30
        }
      ]
    },
    {
      "cell_type": "code",
      "source": [
        "y = x[0]**3 + 2*x[1]**2\n",
        "\n",
        "y.backward(gradient=100*torch.ones(1))"
      ],
      "metadata": {
        "id": "y9msaISAJLm2"
      },
      "execution_count": null,
      "outputs": []
    },
    {
      "cell_type": "code",
      "source": [
        "x.grad\n"
      ],
      "metadata": {
        "colab": {
          "base_uri": "https://localhost:8080/"
        },
        "id": "QaCsshTaJLoD",
        "outputId": "95870c5a-3b66-48a7-9bc6-b4f64e5ee594"
      },
      "execution_count": null,
      "outputs": [
        {
          "output_type": "execute_result",
          "data": {
            "text/plain": [
              "tensor([[102.4362],\n",
              "        [  3.4961]])"
            ]
          },
          "metadata": {},
          "execution_count": 32
        }
      ]
    },
    {
      "cell_type": "code",
      "source": [
        "100 * 3*x[0]**2, 100 * 4*x[1]"
      ],
      "metadata": {
        "colab": {
          "base_uri": "https://localhost:8080/"
        },
        "id": "oS-cqCbnJLpr",
        "outputId": "f4963728-1cd9-47af-bdef-668c8486ef59"
      },
      "execution_count": null,
      "outputs": [
        {
          "output_type": "execute_result",
          "data": {
            "text/plain": [
              "(tensor([102.4362], grad_fn=<MulBackward0>),\n",
              " tensor([3.4961], grad_fn=<MulBackward0>))"
            ]
          },
          "metadata": {},
          "execution_count": 34
        }
      ]
    },
    {
      "cell_type": "markdown",
      "source": [
        "# <font color='red'> Input is scalar; output is vector"
      ],
      "metadata": {
        "id": "obQzyVH7JLrL"
      }
    },
    {
      "cell_type": "code",
      "source": [
        "x = Variable(torch.rand(1), requires_grad=True); x"
      ],
      "metadata": {
        "colab": {
          "base_uri": "https://localhost:8080/"
        },
        "id": "-Vu0flu4JLtI",
        "outputId": "b1357dd2-f25a-4ffb-fdeb-bc8d24a3f0df"
      },
      "execution_count": null,
      "outputs": [
        {
          "output_type": "execute_result",
          "data": {
            "text/plain": [
              "tensor([0.7315], requires_grad=True)"
            ]
          },
          "metadata": {},
          "execution_count": 36
        }
      ]
    },
    {
      "cell_type": "code",
      "source": [
        "y = Variable(torch.zeros(2, 1), requires_grad=False)"
      ],
      "metadata": {
        "id": "IJQjRbKtJLuY"
      },
      "execution_count": null,
      "outputs": []
    },
    {
      "cell_type": "code",
      "source": [
        "y"
      ],
      "metadata": {
        "colab": {
          "base_uri": "https://localhost:8080/"
        },
        "id": "abEuh6UvJLwA",
        "outputId": "e44c92d1-0c95-458b-c987-6f0666ce089a"
      },
      "execution_count": null,
      "outputs": [
        {
          "output_type": "execute_result",
          "data": {
            "text/plain": [
              "tensor([[0.],\n",
              "        [0.]])"
            ]
          },
          "metadata": {},
          "execution_count": 38
        }
      ]
    },
    {
      "cell_type": "code",
      "source": [
        "y[0] = x**3\n",
        "y[1] = 2*x**2\n",
        "y"
      ],
      "metadata": {
        "colab": {
          "base_uri": "https://localhost:8080/"
        },
        "id": "uNNNafV5MYBs",
        "outputId": "0e894f60-1d15-4928-c668-600496b6ee75"
      },
      "execution_count": null,
      "outputs": [
        {
          "output_type": "execute_result",
          "data": {
            "text/plain": [
              "tensor([[0.3914],\n",
              "        [1.0701]], grad_fn=<CopySlices>)"
            ]
          },
          "metadata": {},
          "execution_count": 39
        }
      ]
    },
    {
      "cell_type": "code",
      "source": [
        "y.size()"
      ],
      "metadata": {
        "colab": {
          "base_uri": "https://localhost:8080/"
        },
        "id": "CGLQlGgiMoqg",
        "outputId": "eb40f77b-c338-4d66-f2f9-f1c4e0ea493e"
      },
      "execution_count": null,
      "outputs": [
        {
          "output_type": "execute_result",
          "data": {
            "text/plain": [
              "torch.Size([2, 1])"
            ]
          },
          "metadata": {},
          "execution_count": 40
        }
      ]
    },
    {
      "cell_type": "code",
      "source": [
        "y.backward(gradient=torch.ones(y.size()))"
      ],
      "metadata": {
        "id": "PugwRCJhMZj-"
      },
      "execution_count": null,
      "outputs": []
    },
    {
      "cell_type": "code",
      "source": [
        "x.grad"
      ],
      "metadata": {
        "colab": {
          "base_uri": "https://localhost:8080/"
        },
        "id": "tNoVYF1nMZmN",
        "outputId": "43fcb2e5-f7ac-4a38-d7ac-c04b5b0769d0"
      },
      "execution_count": null,
      "outputs": [
        {
          "output_type": "execute_result",
          "data": {
            "text/plain": [
              "tensor([4.5310])"
            ]
          },
          "metadata": {},
          "execution_count": 42
        }
      ]
    },
    {
      "cell_type": "code",
      "source": [
        "3*x**2 + 4*x\n"
      ],
      "metadata": {
        "colab": {
          "base_uri": "https://localhost:8080/"
        },
        "id": "D4qbXpXbMZoy",
        "outputId": "b08c3fdb-c097-47cd-f67f-888535a47169"
      },
      "execution_count": null,
      "outputs": [
        {
          "output_type": "execute_result",
          "data": {
            "text/plain": [
              "tensor([4.5310], grad_fn=<AddBackward0>)"
            ]
          },
          "metadata": {},
          "execution_count": 43
        }
      ]
    },
    {
      "cell_type": "markdown",
      "source": [
        "# <font color='red'> Input is vector; output is vector"
      ],
      "metadata": {
        "id": "-hv4pRJwMZq9"
      }
    },
    {
      "cell_type": "markdown",
      "source": [
        "### <font color='yellow'> Try - 1"
      ],
      "metadata": {
        "id": "EOLrojcsNu_f"
      }
    },
    {
      "cell_type": "code",
      "source": [
        "x = Variable(torch.rand(2, 1), requires_grad = True); x"
      ],
      "metadata": {
        "colab": {
          "base_uri": "https://localhost:8080/"
        },
        "id": "j-cU2qi0MZr1",
        "outputId": "3274337d-f89e-475f-9b0e-a18452e985ad"
      },
      "execution_count": null,
      "outputs": [
        {
          "output_type": "execute_result",
          "data": {
            "text/plain": [
              "tensor([[0.7756],\n",
              "        [0.7654]], requires_grad=True)"
            ]
          },
          "metadata": {},
          "execution_count": 44
        }
      ]
    },
    {
      "cell_type": "code",
      "source": [
        "y = Variable(torch.zeros(3, 1), requires_grad=False)"
      ],
      "metadata": {
        "id": "3p2HXQppMZs9"
      },
      "execution_count": null,
      "outputs": []
    },
    {
      "cell_type": "code",
      "source": [
        "y"
      ],
      "metadata": {
        "colab": {
          "base_uri": "https://localhost:8080/"
        },
        "id": "DuPR2IaDMZt2",
        "outputId": "39f7c7c3-e80f-43a5-bf7e-0d4ceae30ffc"
      },
      "execution_count": null,
      "outputs": [
        {
          "output_type": "execute_result",
          "data": {
            "text/plain": [
              "tensor([[0.],\n",
              "        [0.],\n",
              "        [0.]])"
            ]
          },
          "metadata": {},
          "execution_count": 46
        }
      ]
    },
    {
      "cell_type": "code",
      "source": [
        "y[0] = x[0]**2\n",
        "y[1] = x[1]**3\n",
        "y[2] = x[1]**4"
      ],
      "metadata": {
        "id": "a87MQVGMMZvT"
      },
      "execution_count": null,
      "outputs": []
    },
    {
      "cell_type": "code",
      "source": [
        "y.backward(gradient=torch.ones(y.size()))\n"
      ],
      "metadata": {
        "id": "5w6bKnudMZwz"
      },
      "execution_count": null,
      "outputs": []
    },
    {
      "cell_type": "code",
      "source": [
        "x.grad"
      ],
      "metadata": {
        "colab": {
          "base_uri": "https://localhost:8080/"
        },
        "id": "eaMUcsebMZyY",
        "outputId": "c604df24-f000-494c-ab42-7f834ebd98f7"
      },
      "execution_count": null,
      "outputs": [
        {
          "output_type": "execute_result",
          "data": {
            "text/plain": [
              "tensor([[1.5512],\n",
              "        [3.5507]])"
            ]
          },
          "metadata": {},
          "execution_count": 49
        }
      ]
    },
    {
      "cell_type": "code",
      "source": [
        "2*x[0], 3*x[1]**2, 4*x[1]**3\n"
      ],
      "metadata": {
        "colab": {
          "base_uri": "https://localhost:8080/"
        },
        "id": "lYaFogR4NLeS",
        "outputId": "c2bef702-e90b-4c68-8752-609f9975f7c3"
      },
      "execution_count": null,
      "outputs": [
        {
          "output_type": "execute_result",
          "data": {
            "text/plain": [
              "(tensor([1.5512], grad_fn=<MulBackward0>),\n",
              " tensor([1.7574], grad_fn=<MulBackward0>),\n",
              " tensor([1.7934], grad_fn=<MulBackward0>))"
            ]
          },
          "metadata": {},
          "execution_count": 52
        }
      ]
    },
    {
      "cell_type": "code",
      "source": [
        "2*x[0], (3*x[1]**2 + 4*x[1]**3)"
      ],
      "metadata": {
        "colab": {
          "base_uri": "https://localhost:8080/"
        },
        "id": "to0arkexMZ0D",
        "outputId": "d3258aba-0297-4dc3-9d14-cd53b3b516f6"
      },
      "execution_count": null,
      "outputs": [
        {
          "output_type": "execute_result",
          "data": {
            "text/plain": [
              "(tensor([1.5512], grad_fn=<MulBackward0>),\n",
              " tensor([3.5507], grad_fn=<AddBackward0>))"
            ]
          },
          "metadata": {},
          "execution_count": 51
        }
      ]
    },
    {
      "cell_type": "markdown",
      "source": [
        "### <font color='yellow'> Try - 2"
      ],
      "metadata": {
        "id": "iCZvSUGMMZ1u"
      }
    },
    {
      "cell_type": "code",
      "source": [
        "x = Variable(torch.rand(2, 1), requires_grad = True); x"
      ],
      "metadata": {
        "colab": {
          "base_uri": "https://localhost:8080/"
        },
        "id": "zrwz1TAEMZ3X",
        "outputId": "49b33de4-d0f3-46d8-82c0-0f7147700a6c"
      },
      "execution_count": null,
      "outputs": [
        {
          "output_type": "execute_result",
          "data": {
            "text/plain": [
              "tensor([[0.3400],\n",
              "        [0.0747]], requires_grad=True)"
            ]
          },
          "metadata": {},
          "execution_count": 53
        }
      ]
    },
    {
      "cell_type": "code",
      "source": [
        "y = Variable(torch.zeros(3, 1), requires_grad=False)"
      ],
      "metadata": {
        "id": "FmXAeOmLMZ5P"
      },
      "execution_count": null,
      "outputs": []
    },
    {
      "cell_type": "code",
      "source": [
        "y"
      ],
      "metadata": {
        "colab": {
          "base_uri": "https://localhost:8080/"
        },
        "id": "5BjXvoNzMZ7N",
        "outputId": "bdc08a1b-9283-4b83-fad3-2641bf94b68b"
      },
      "execution_count": null,
      "outputs": [
        {
          "output_type": "execute_result",
          "data": {
            "text/plain": [
              "tensor([[0.],\n",
              "        [0.],\n",
              "        [0.]])"
            ]
          },
          "metadata": {},
          "execution_count": 55
        }
      ]
    },
    {
      "cell_type": "code",
      "source": [
        "y[0] = x[0]**2\n",
        "y[1] = x[1]**3\n",
        "y[2] = x[1]**4\n"
      ],
      "metadata": {
        "id": "AmyFjvjrMZ8j"
      },
      "execution_count": null,
      "outputs": []
    },
    {
      "cell_type": "code",
      "source": [
        "y.backward(gradient=100*torch.ones(y.size()))"
      ],
      "metadata": {
        "id": "BhvOOsu9MZ-z"
      },
      "execution_count": null,
      "outputs": []
    },
    {
      "cell_type": "code",
      "source": [
        "x.grad\n"
      ],
      "metadata": {
        "colab": {
          "base_uri": "https://localhost:8080/"
        },
        "id": "QNaImVziMaBt",
        "outputId": "bc1642da-4c28-46fc-835b-4348e752bed4"
      },
      "execution_count": null,
      "outputs": [
        {
          "output_type": "execute_result",
          "data": {
            "text/plain": [
              "tensor([[67.9920],\n",
              "        [ 1.8424]])"
            ]
          },
          "metadata": {},
          "execution_count": 58
        }
      ]
    },
    {
      "cell_type": "code",
      "source": [
        "2*x[0], 3*x[1]**2, 4*x[1]**3"
      ],
      "metadata": {
        "colab": {
          "base_uri": "https://localhost:8080/"
        },
        "id": "euq5z0S_MaDz",
        "outputId": "3f944380-592b-4efb-dd95-1be196a48d25"
      },
      "execution_count": null,
      "outputs": [
        {
          "output_type": "execute_result",
          "data": {
            "text/plain": [
              "(tensor([0.6799], grad_fn=<MulBackward0>),\n",
              " tensor([0.0168], grad_fn=<MulBackward0>),\n",
              " tensor([0.0017], grad_fn=<MulBackward0>))"
            ]
          },
          "metadata": {},
          "execution_count": 59
        }
      ]
    },
    {
      "cell_type": "code",
      "source": [
        "2*x[0], 3*x[1]**2 + 4*x[1]**3"
      ],
      "metadata": {
        "colab": {
          "base_uri": "https://localhost:8080/"
        },
        "id": "jA-GIr8-NVb8",
        "outputId": "316c9ff6-1de2-4352-c4c1-d8b1a573d175"
      },
      "execution_count": null,
      "outputs": [
        {
          "output_type": "execute_result",
          "data": {
            "text/plain": [
              "(tensor([0.6799], grad_fn=<MulBackward0>),\n",
              " tensor([0.0184], grad_fn=<AddBackward0>))"
            ]
          },
          "metadata": {},
          "execution_count": 60
        }
      ]
    },
    {
      "cell_type": "code",
      "source": [],
      "metadata": {
        "id": "jkMRAWn6NVe8"
      },
      "execution_count": null,
      "outputs": []
    },
    {
      "cell_type": "code",
      "source": [],
      "metadata": {
        "id": "5QKzWtHlNVhB"
      },
      "execution_count": null,
      "outputs": []
    },
    {
      "cell_type": "code",
      "source": [],
      "metadata": {
        "id": "tjXcnvZeNVjV"
      },
      "execution_count": null,
      "outputs": []
    },
    {
      "cell_type": "code",
      "source": [],
      "metadata": {
        "id": "zRmt0zWuNVlE"
      },
      "execution_count": null,
      "outputs": []
    },
    {
      "cell_type": "code",
      "source": [],
      "metadata": {
        "id": "4xDFuha0NVmW"
      },
      "execution_count": null,
      "outputs": []
    },
    {
      "cell_type": "code",
      "source": [],
      "metadata": {
        "id": "-UDxSzKpNVoO"
      },
      "execution_count": null,
      "outputs": []
    },
    {
      "cell_type": "code",
      "source": [],
      "metadata": {
        "id": "uuEq81r3NVqD"
      },
      "execution_count": null,
      "outputs": []
    },
    {
      "cell_type": "code",
      "source": [],
      "metadata": {
        "id": "2WdfREwvNVr6"
      },
      "execution_count": null,
      "outputs": []
    },
    {
      "cell_type": "code",
      "source": [],
      "metadata": {
        "id": "7WF_iG6ONVtU"
      },
      "execution_count": null,
      "outputs": []
    },
    {
      "cell_type": "code",
      "source": [],
      "metadata": {
        "id": "u8N4nupiNVvF"
      },
      "execution_count": null,
      "outputs": []
    },
    {
      "cell_type": "code",
      "source": [],
      "metadata": {
        "id": "Jt4KLWRxNVwS"
      },
      "execution_count": null,
      "outputs": []
    },
    {
      "cell_type": "code",
      "source": [],
      "metadata": {
        "id": "120RcbgrNVxt"
      },
      "execution_count": null,
      "outputs": []
    },
    {
      "cell_type": "code",
      "source": [],
      "metadata": {
        "id": "Gl-P8vfzNVzd"
      },
      "execution_count": null,
      "outputs": []
    },
    {
      "cell_type": "code",
      "source": [],
      "metadata": {
        "id": "d199Poe6NV0q"
      },
      "execution_count": null,
      "outputs": []
    },
    {
      "cell_type": "markdown",
      "source": [],
      "metadata": {
        "id": "Pn3FUmieNUfA"
      }
    }
  ]
}